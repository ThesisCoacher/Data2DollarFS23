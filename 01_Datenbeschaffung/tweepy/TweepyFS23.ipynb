{
  "cells": [
    {
      "cell_type": "code",
      "execution_count": null,
      "metadata": {
        "id": "SsXRAwdy-LEL"
      },
      "outputs": [],
      "source": [
        "# Installation der Bibliotheken\n",
        "!pip install git+https://github.com/tweepy/tweepy.git"
      ]
    },
    {
      "cell_type": "code",
      "execution_count": 4,
      "metadata": {
        "id": "GgzQl7hN8d4k"
      },
      "outputs": [],
      "source": [
        "# OAuth2.0 Version \n",
        "import tweepy"
      ]
    },
    {
      "cell_type": "code",
      "execution_count": null,
      "metadata": {
        "id": "YfRy0Bd19ztk"
      },
      "outputs": [],
      "source": [
        "# Put your Bearer Token in the parenthesis below\n",
        "client = tweepy.Client(bearer_token='Dein Token')\n",
        "\n",
        "\"\"\"\n",
        "If you don't understand search queries, there is an excellent introduction to it here: \n",
        "https://github.com/twitterdev/getting-started-with-the-twitter-api-v2-for-academic-research/blob/main/modules/5-how-to-write-search-queries.md\n",
        "\"\"\"\n",
        "\n",
        "# Get tweets that contain the hashtag #petday\n",
        "# -is:retweet means I don't wantretweets\n",
        "# lang:en is asking for the tweets to be in english\n",
        "query = '#borussia -is:retweet lang:en'\n",
        "tweets = tweepy.Paginator(client.search_recent_tweets, query=query,\n",
        "                              tweet_fields=['context_annotations', 'created_at'], max_results=100).flatten(limit=1000)"
      ]
    },
    {
      "cell_type": "code",
      "execution_count": null,
      "metadata": {
        "id": "00bMCGZf-yEd"
      },
      "outputs": [],
      "source": [
        "# Ausgabe des Objectes\n",
        "for tweet in tweets:\n",
        "    print(tweet.text)\n",
        "    if len(tweet.context_annotations) > 0:\n",
        "        print(tweet.context_annotations)"
      ]
    }
  ],
  "metadata": {
    "colab": {
      "provenance": []
    },
    "kernelspec": {
      "display_name": "Python 3",
      "name": "python3"
    },
    "language_info": {
      "name": "python"
    }
  },
  "nbformat": 4,
  "nbformat_minor": 0
}
